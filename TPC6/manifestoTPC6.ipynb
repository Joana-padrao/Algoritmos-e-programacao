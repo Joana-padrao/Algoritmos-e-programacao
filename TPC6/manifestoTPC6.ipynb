{
 "cells": [
  {
   "cell_type": "markdown",
   "metadata": {},
   "source": [
    "# Manifesto\n",
    "\n",
    "* __identificador:__ TPC6\n",
    "* __titulo:__ Polinómios 2\n",
    "* __data de inicio:__ \n",
    "* __data de fim:__ 2021-11-21\n",
    "* __supervisor:__ José Carlos Ramalho, url: https://www.di.uminho.pt/~jcr/thesup-v2.php\n",
    "* __autor:__ Joana Padrão, nº a96101\n",
    "* __resumo:__ Nesta app adicionamos uma nova opção ao menu ao TPC da semana passada, o TPC5, a _opção 6_ que calcula o gráfico do polinómio e permite vê-lo numa nova janela."
   ]
  },
  {
   "cell_type": "code",
   "execution_count": null,
   "metadata": {},
   "outputs": [],
   "source": []
  }
 ],
 "metadata": {
  "kernelspec": {
   "display_name": "Python 3",
   "language": "python",
   "name": "python3"
  },
  "language_info": {
   "codemirror_mode": {
    "name": "ipython",
    "version": 3
   },
   "file_extension": ".py",
   "mimetype": "text/x-python",
   "name": "python",
   "nbconvert_exporter": "python",
   "pygments_lexer": "ipython3",
   "version": "3.8.3"
  }
 },
 "nbformat": 4,
 "nbformat_minor": 4
}
