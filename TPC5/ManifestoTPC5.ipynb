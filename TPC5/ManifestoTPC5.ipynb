{
 "cells": [
  {
   "cell_type": "markdown",
   "metadata": {},
   "source": [
    "# Manifesto\n",
    "\n",
    "* __identificador:__ TPC5\n",
    "* __titulo:__ Polinomios\n",
    "* __data de inicio:__ 2021-11-08\n",
    "* __data de fim:__ 2021-10-15\n",
    "* __supervisor:__ José Carlos Ramalho, url: https://www.di.uminho.pt/~jcr/thesup-v2.php\n",
    "* __autor:__ Joana Padrão, nº a96101\n",
    "* __resumo:__ Ao iniciar deparamo-nos com um menu que nos permite escolher entre várias opções e cada uma delas nos levará para uma função diferente. Escolhendo a _opção 1_ do menu podemos criar um polinómio (que será uma lista de tuplos) indicando o numero de termos (sendo que cada termo será um tuplo) que o polinomio terá e em seguida os seus coeficientes e os expoentes. Com a _opção 2_ é possível calcular o valor do polinómio indicando qual será o valor da variável. A _opção 3_ é semelhante à opção 2 mas esta calcula o valor do polinomio até a um valor por nós indicado. Na _opção 4_ é possível simplificar o polinomio. Por fim na _opção 5_ é possível calcular a derivada do polinomio."
   ]
  },
  {
   "cell_type": "code",
   "execution_count": null,
   "metadata": {},
   "outputs": [],
   "source": []
  }
 ],
 "metadata": {
  "kernelspec": {
   "display_name": "Python 3",
   "language": "python",
   "name": "python3"
  },
  "language_info": {
   "codemirror_mode": {
    "name": "ipython",
    "version": 3
   },
   "file_extension": ".py",
   "mimetype": "text/x-python",
   "name": "python",
   "nbconvert_exporter": "python",
   "pygments_lexer": "ipython3",
   "version": "3.8.3"
  }
 },
 "nbformat": 4,
 "nbformat_minor": 4
}
