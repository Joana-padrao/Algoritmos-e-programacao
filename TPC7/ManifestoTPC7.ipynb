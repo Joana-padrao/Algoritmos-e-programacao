{
 "cells": [
  {
   "cell_type": "markdown",
   "metadata": {},
   "source": [
    "# Manifesto TPC7\n",
    "\n",
    "* __identificador:__ TPC7\n",
    "* __titulo:__ Processamento de datasets\n",
    "* __data de inicio:__ 2021-11-22\n",
    "* __data de fim:__ 2021-11-28\n",
    "* __supervisor:__ José Carlos Ramalho, url: https://www.di.uminho.pt/~jcr/thesup-v2.php\n",
    "* __autor:__ Joana Padrão, nº a96101\n",
    "* __resumo:__ Esta app tem código para que abrindo o ficheiro _\"alunos.cvs\"_ , que contêm uma base de dados de informação sobre os alunos consigamos ler a informação que lá tem. Além disso, também se pode ver as informações da base de dados (id, nome, curso, tpc1, tpc2, tpc3, tpc4) na forma de uma tabela através da função _listarDataset(bd)_. Na função _consultarDataset(bd, id)_ conseguimos, através de um id ver a informação do aluno com esse id e a média dos tpc. Para além disso, a função _top10(bd)_ permite nos ver a informação dos 10 alunos com melhor média. Com as funções _distribPorCurso(bd)_ e _distribPorMedia(bd)_ é possível ver quantos alunos é que estão em cada curso, ou ver quantos alunos têm uma determinada média, respetivamente. Por fim as funções _plotDistribPorCurso(bd)_ e _plotDistribPorMedia(bd, lis)_ é possível ver os gráficos das duas funções anteriores."
   ]
  },
  {
   "cell_type": "code",
   "execution_count": null,
   "metadata": {},
   "outputs": [],
   "source": []
  }
 ],
 "metadata": {
  "kernelspec": {
   "display_name": "Python 3",
   "language": "python",
   "name": "python3"
  },
  "language_info": {
   "codemirror_mode": {
    "name": "ipython",
    "version": 3
   },
   "file_extension": ".py",
   "mimetype": "text/x-python",
   "name": "python",
   "nbconvert_exporter": "python",
   "pygments_lexer": "ipython3",
   "version": "3.8.3"
  }
 },
 "nbformat": 4,
 "nbformat_minor": 4
}
