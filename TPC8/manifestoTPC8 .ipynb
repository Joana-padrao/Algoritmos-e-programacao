{
 "cells": [
  {
   "cell_type": "markdown",
   "metadata": {},
   "source": [
    "# Manifesto TPC8\n",
    "\n",
    "* __identificador:__ TPC7\n",
    "* __titulo:__ Processamento de datasets\n",
    "* __data de inicio:__ 2021-11-29\n",
    "* __data de fim:__ 2021-12-04\n",
    "* __supervisor:__ José Carlos Ramalho, url: https://www.di.uminho.pt/~jcr/thesup-v2.php\n",
    "* __autor:__ Joana Padrão, nº a96101\n",
    "* __resumo:__ No ficheiro __TPC8__ tem código para que abrindo o ficheiro \"emd.csv\" , que contêm uma base de dados de informação sobre diferentes atletas, consigamos ler a informação que lá tem. Além disso, também se pode ver algumas informações da base de dados (id, data, nome, apto) na forma de uma tabela através da função _listarDataset(bd)_. Na função _consultarDataset(bd, id)_ conseguimos, através de um id ver a informação do atleta com esse id. Para além disso, a função _modalidades(bd)_ permite nos ver  todas as modalidades que existem nessa base de dados, ordenadas alfabeticamente. Com as funções _distribPorModalidade(bd)_, _distribPorClube(bd)_ e _distribPorAno(bd)_ é possível ver quantos atletas é que estão em cada modalidade, clube ou quantos atletas fizeram exame por ano, respetivamente. Além disso também tem as funções _distribPorIdade(bd)_, _distribPorGenero(bd)_, distribPorMorada(bd), distribPorFederado(bd), distribPorResultado(bd) que têm um processo semelhante para cada categoria da base de dados. A função _distrib(bd)_ permite-nos escolher uma categoria (Ano, Idade, Género, Morada, Modalidade, Clube, Federados ou  Resultado) e apresenta a sua distribuição chamando as funções anteriormente implementadas as funções. A função _plotDistribPorModalidade(bd)_ permite fazer um gráfico com a distribuição de atletas por modalidade. Por fim, a função _plotDistrib(bd, lista)_ vai buscar a lista criada na função _distrib(bd)_ que guarda todas as opções escolhidas pelo utilizador e pela última opção vai fazer o gráfico de acordo com a última distribuição escolhida nessa função. No ficheiro __interfaceTPC8__, cria-se uma interface gráfica com butões e cada butão executa função diferente e depois o resultado é apresentado num painel numa coluna ao lado."
   ]
  },
  {
   "cell_type": "code",
   "execution_count": null,
   "metadata": {},
   "outputs": [],
   "source": []
  }
 ],
 "metadata": {
  "kernelspec": {
   "display_name": "Python 3",
   "language": "python",
   "name": "python3"
  },
  "language_info": {
   "codemirror_mode": {
    "name": "ipython",
    "version": 3
   },
   "file_extension": ".py",
   "mimetype": "text/x-python",
   "name": "python",
   "nbconvert_exporter": "python",
   "pygments_lexer": "ipython3",
   "version": "3.8.3"
  }
 },
 "nbformat": 4,
 "nbformat_minor": 4
}
